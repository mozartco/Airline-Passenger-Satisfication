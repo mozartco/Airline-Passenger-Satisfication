{
  "nbformat": 4,
  "nbformat_minor": 0,
  "metadata": {
    "colab": {
      "provenance": []
    },
    "kernelspec": {
      "name": "python3",
      "display_name": "Python 3"
    },
    "language_info": {
      "name": "python"
    }
  },
  "cells": [
    {
      "cell_type": "code",
      "execution_count": null,
      "metadata": {
        "id": "tuc5Bj0wze0E"
      },
      "outputs": [],
      "source": [
        "import pandas as pd\n",
        "df = pd.read_csv('airline_passenger_satisfaction.csv')"
      ]
    },
    {
      "cell_type": "code",
      "source": [
        "# Changing Categorical Data to Numeric\n",
        "df['Gender']= [1 if i == 'Male' else 0 for i in df['Gender']]\n",
        "df['customer_type'] = [1 if i == 'Loyal Customer' else 0 for i in df['customer_type']]\n",
        "df['type_of_travel'] = [1 if i == 'Business travel' else 0 for i in df['type_of_travel']]\n",
        "df['satisfaction'] = [1 if i=='satisfied' else 0 for i in df['satisfaction']]\n",
        "dummmy_class = pd.get_dummies(df['customer_class'], prefix='Class')\n",
        "df = pd.concat([df, dummmy_class], axis=1)\n",
        "df = df.drop(['customer_class'], axis = 1)\n",
        "df.drop(columns=df.columns[0], axis=1, inplace=True)"
      ],
      "metadata": {
        "id": "LGvCDtavaIQu"
      },
      "execution_count": null,
      "outputs": []
    },
    {
      "cell_type": "code",
      "source": [
        "\n",
        "#Checking columns with null values or empty values\n",
        "for i in df.columns:\n",
        "  print(i,\":\",df[i].isna().sum())"
      ],
      "metadata": {
        "colab": {
          "base_uri": "https://localhost:8080/"
        },
        "id": "bkGj1fEBZ1WV",
        "outputId": "c652cae7-db90-433a-c678-a2d18154eab2"
      },
      "execution_count": null,
      "outputs": [
        {
          "output_type": "stream",
          "name": "stdout",
          "text": [
            "Gender : 0\n",
            "customer_type : 0\n",
            "age : 0\n",
            "type_of_travel : 0\n",
            "flight_distance : 0\n",
            "inflight_wifi_service : 0\n",
            "departure_arrival_time_convenient : 0\n",
            "ease_of_online_booking : 0\n",
            "gate_location : 0\n",
            "food_and_drink : 0\n",
            "online_boarding : 0\n",
            "seat_comfort : 0\n",
            "inflight_entertainment : 0\n",
            "onboard_service : 0\n",
            "leg_room_service : 0\n",
            "baggage_handling : 0\n",
            "checkin_service : 0\n",
            "inflight_service : 0\n",
            "cleanliness : 0\n",
            "departure_delay_in_minutes : 0\n",
            "arrival_delay_in_minutes : 393\n",
            "satisfaction : 0\n",
            "Class_Business : 0\n",
            "Class_Eco : 0\n",
            "Class_Eco Plus : 0\n"
          ]
        }
      ]
    },
    {
      "cell_type": "code",
      "source": [
        "df['arrival_delay_in_minutes'].fillna((df['arrival_delay_in_minutes'].mean()), inplace=True)\n",
        "\n",
        "#Checking columns with null values or empty values\n",
        "for i in df.columns:\n",
        "  print(i,\":\",df[i].isna().sum())"
      ],
      "metadata": {
        "colab": {
          "base_uri": "https://localhost:8080/"
        },
        "id": "cdjN78_y9DP1",
        "outputId": "23b94050-7230-471e-a3ce-6d11c6b5cfb8"
      },
      "execution_count": null,
      "outputs": [
        {
          "output_type": "stream",
          "name": "stdout",
          "text": [
            "Gender : 0\n",
            "customer_type : 0\n",
            "age : 0\n",
            "type_of_travel : 0\n",
            "flight_distance : 0\n",
            "inflight_wifi_service : 0\n",
            "departure_arrival_time_convenient : 0\n",
            "ease_of_online_booking : 0\n",
            "gate_location : 0\n",
            "food_and_drink : 0\n",
            "online_boarding : 0\n",
            "seat_comfort : 0\n",
            "inflight_entertainment : 0\n",
            "onboard_service : 0\n",
            "leg_room_service : 0\n",
            "baggage_handling : 0\n",
            "checkin_service : 0\n",
            "inflight_service : 0\n",
            "cleanliness : 0\n",
            "departure_delay_in_minutes : 0\n",
            "arrival_delay_in_minutes : 0\n",
            "satisfaction : 0\n",
            "Class_Business : 0\n",
            "Class_Eco : 0\n",
            "Class_Eco Plus : 0\n"
          ]
        }
      ]
    },
    {
      "cell_type": "code",
      "source": [
        "\n",
        "df.to_csv('CleanedData.csv', index = False)"
      ],
      "metadata": {
        "id": "gkELc5WLEcq4"
      },
      "execution_count": null,
      "outputs": []
    },
    {
      "cell_type": "code",
      "source": [
        "# Import seaborn\n",
        "import seaborn as sns\n",
        "\n",
        "# The number of Time Band in the dataset and its graphic for Inpatient.\n",
        "sns.countplot(x = \"satisfaction\", data = df)\n",
        "df.loc[:,\"satisfaction\"].value_counts()"
      ],
      "metadata": {
        "colab": {
          "base_uri": "https://localhost:8080/",
          "height": 504
        },
        "id": "StTEzzCcK9V8",
        "outputId": "025df2c1-aa9b-4a06-9743-8af1b992b652"
      },
      "execution_count": null,
      "outputs": [
        {
          "output_type": "execute_result",
          "data": {
            "text/plain": [
              "0    73452\n",
              "1    56428\n",
              "Name: satisfaction, dtype: int64"
            ]
          },
          "metadata": {},
          "execution_count": 20
        },
        {
          "output_type": "display_data",
          "data": {
            "text/plain": [
              "<Figure size 640x480 with 1 Axes>"
            ],
            "image/png": "[encoded data removed]"
          },
          "metadata": {}
        }
      ]
    },
    {
      "cell_type": "markdown",
      "source": [
        "# **#NAIVE BAYES WITHOUT PREPRCESSING**"
      ],
      "metadata": {
        "id": "-VBmURVOpJdR"
      }
    },
    {
      "cell_type": "code",
      "source": [
        "import pandas as pd\n",
        "from sklearn.model_selection import train_test_split\n",
        "\n",
        "# Split the DataFrame into training and testing sets\n",
        "train_data, test_data = train_test_split(df, test_size=0.2, random_state=43)\n",
        "\n",
        "# Separate features and target variable for training data\n",
        "x_train = train_data.drop([\"satisfaction\"], axis=1)\n",
        "y_train = train_data.satisfaction.values\n",
        "\n",
        "# Separate features and target variable for testing data\n",
        "x_test = test_data.drop([\"satisfaction\"], axis=1)\n",
        "y_test = test_data.satisfaction.values\n"
      ],
      "metadata": {
        "id": "URznE_SmP5kY"
      },
      "execution_count": null,
      "outputs": []
    },
    {
      "cell_type": "code",
      "source": [
        "from sklearn.naive_bayes import MultinomialNB\n",
        "\n",
        "# Build a Multinomial Naive Bayes\n",
        "model = MultinomialNB()\n",
        "\n",
        "# Model training -- model.fit() is used to make predictions using given data i.e. it fits/maps\n",
        "# the given data to the model\n",
        "# creating the contingency probability table like we saw in the lecture\n",
        "\n",
        "model.fit(x_train, y_train)\n",
        "print(\"print Train for accuracy of NBC algo: \", model.score(x_train,y_train))\n",
        "print(\"print Test for accuracy of NBC algo: \", model.score(x_test,y_test))\n",
        "\n",
        "from sklearn.metrics import (\n",
        "    accuracy_score,\n",
        "    confusion_matrix,\n",
        "    ConfusionMatrixDisplay,\n",
        "    f1_score,\n",
        ")\n",
        "\n",
        "y_pred = model.predict(x_test)\n",
        "accuracy = accuracy_score(y_pred, y_test)\n",
        "f1 = f1_score(y_pred, y_test, average=\"weighted\")\n",
        "\n",
        "print(\"Accuracy:\", accuracy)\n",
        "print(\"F1 Score:\", f1)"
      ],
      "metadata": {
        "colab": {
          "base_uri": "https://localhost:8080/"
        },
        "id": "_zif9XUbTMYN",
        "outputId": "db4b7982-5cb3-4846-fcd2-b6d44b7fdb74"
      },
      "execution_count": null,
      "outputs": [
        {
          "output_type": "stream",
          "name": "stdout",
          "text": [
            "print Train for accuracy of NBC algo:  0.5991492146596858\n",
            "print Test for accuracy of NBC algo:  0.6009393286110256\n",
            "Accuracy: 0.6009393286110256\n",
            "F1 Score: 0.5993394039738881\n"
          ]
        }
      ]
    },
    {
      "cell_type": "code",
      "source": [
        "labels = [0,1]\n",
        "cm = confusion_matrix(y_test, y_pred, labels=labels)\n",
        "disp = ConfusionMatrixDisplay(confusion_matrix=cm, display_labels=labels)\n",
        "disp.plot();"
      ],
      "metadata": {
        "colab": {
          "base_uri": "https://localhost:8080/",
          "height": 449
        },
        "id": "hvkwJwu9VQbe",
        "outputId": "ab67cac4-0397-4dfa-cac4-20ad206b5b13"
      },
      "execution_count": null,
      "outputs": [
        {
          "output_type": "display_data",
          "data": {
            "text/plain": [
              "<Figure size 640x480 with 2 Axes>"
            ],
            "image/png": "[encoded data removed]"
          },
          "metadata": {}
        }
      ]
    },
    {
      "cell_type": "markdown",
      "source": [
        "# NAIVE BAYES WITH SELETCED COLUMNS ONLY"
      ],
      "metadata": {
        "id": "VrVennVaREel"
      }
    },
    {
      "cell_type": "code",
      "source": [
        "# NAIVE BAYES WITH SELETCED COLUMNS ONLY\n",
        "df = pd.read_csv('FeatureSelectedDataset.csv')\n",
        "import pandas as pd\n",
        "from sklearn.model_selection import train_test_split\n",
        "\n",
        "# Split the DataFrame into training and testing sets\n",
        "train_data, test_data = train_test_split(df, test_size=0.2, random_state=43)\n",
        "\n",
        "# Separate features and target variable for training data\n",
        "x_train = train_data.drop([\"satisfaction\"], axis=1)\n",
        "y_train = train_data.satisfaction.values\n",
        "\n",
        "# Separate features and target variable for testing data\n",
        "x_test = test_data.drop([\"satisfaction\"], axis=1)\n",
        "y_test = test_data.satisfaction.values\n",
        "\n",
        "from sklearn.naive_bayes import MultinomialNB\n",
        "\n",
        "# Build a Multinomial Naive Bayes\n",
        "model = MultinomialNB()\n",
        "\n",
        "# Model training -- model.fit() is used to make predictions using given data i.e. it fits/maps\n",
        "# the given data to the model\n",
        "# creating the contingency probability table like we saw in the lecture\n",
        "\n",
        "model.fit(x_train, y_train)\n",
        "print(\"print Train for accuracy of NBC algo: \", model.score(x_train,y_train))\n",
        "print(\"print Test for accuracy of NBC algo: \", model.score(x_test,y_test))\n",
        "\n",
        "from sklearn.metrics import (\n",
        "    accuracy_score,\n",
        "    confusion_matrix,\n",
        "    ConfusionMatrixDisplay,\n",
        "    f1_score,\n",
        ")\n",
        "\n",
        "y_pred = model.predict(x_test)\n",
        "accuracy = accuracy_score(y_pred, y_test)\n",
        "f1 = f1_score(y_pred, y_test, average=\"weighted\")\n",
        "\n",
        "print(\"Accuracy:\", accuracy)\n",
        "print(\"F1 Score:\", f1)\n"
      ],
      "metadata": {
        "colab": {
          "base_uri": "https://localhost:8080/"
        },
        "id": "utW7T_a7QBR2",
        "outputId": "b80e289f-dd2e-4a01-b5b8-1f823ad19022"
      },
      "execution_count": null,
      "outputs": [
        {
          "output_type": "stream",
          "name": "stdout",
          "text": [
            "print Train for accuracy of NBC algo:  0.6169380918823427\n",
            "print Test for accuracy of NBC algo:  0.6227894045872268\n",
            "Accuracy: 0.6227894045872268\n",
            "F1 Score: 0.6249517803144968\n"
          ]
        }
      ]
    },
    {
      "cell_type": "code",
      "source": [
        "labels = [0,1]\n",
        "cm = confusion_matrix(y_test, y_pred, labels=labels)\n",
        "disp = ConfusionMatrixDisplay(confusion_matrix=cm, display_labels=labels)\n",
        "disp.plot();"
      ],
      "metadata": {
        "colab": {
          "base_uri": "https://localhost:8080/",
          "height": 449
        },
        "id": "Gzddv2IzRDL2",
        "outputId": "f8ca1d8d-2836-4abd-df64-940945c99859"
      },
      "execution_count": null,
      "outputs": [
        {
          "output_type": "display_data",
          "data": {
            "text/plain": [
              "<Figure size 640x480 with 2 Axes>"
            ],
            "image/png": "[encoded data removed]"
          },
          "metadata": {}
        }
      ]
    },
    {
      "cell_type": "markdown",
      "source": [
        "# **Naive Bayes with Cross Validation**"
      ],
      "metadata": {
        "id": "O9Fkh8VsobLM"
      }
    },
    {
      "cell_type": "code",
      "source": [
        "import numpy as np\n",
        "from sklearn.model_selection import cross_val_predict, StratifiedKFold\n",
        "from sklearn.naive_bayes import MultinomialNB, GaussianNB\n",
        "from sklearn.metrics import confusion_matrix, ConfusionMatrixDisplay"
      ],
      "metadata": {
        "id": "h5hlHT7tjoZz"
      },
      "execution_count": null,
      "outputs": []
    },
    {
      "cell_type": "code",
      "source": [
        "# Lets split the data into 10 folds.\n",
        "# We will use this 'stratified_cv'(StratiFiedKFold splitting stratergy) object as input to cross_val_score() method\n",
        "# The folds are made by preserving the percentage of samples for each class.\n",
        "x = df.iloc[:, :-1]\n",
        "y = df.satisfaction\n",
        "stratified_cv = StratifiedKFold(n_splits = 10, shuffle=True, random_state=42)\n",
        "\n",
        "cnt = 1\n",
        "# split()  method generate indices to split data into training and test set.\n",
        "for train_index, test_index in stratified_cv.split(x, y):\n",
        "    print(f'Fold:{cnt}, Train set: {len(train_index)}, Test set:{len(test_index)}')\n",
        "    cnt+=1\n",
        "\n",
        "y"
      ],
      "metadata": {
        "colab": {
          "base_uri": "https://localhost:8080/"
        },
        "id": "a5wsl1GUj34j",
        "outputId": "01b3047a-f8f0-4cf3-a0f0-54566d671d55"
      },
      "execution_count": null,
      "outputs": [
        {
          "output_type": "stream",
          "name": "stdout",
          "text": [
            "Fold:1, Train set: 116538, Test set:12949\n",
            "Fold:2, Train set: 116538, Test set:12949\n",
            "Fold:3, Train set: 116538, Test set:12949\n",
            "Fold:4, Train set: 116538, Test set:12949\n",
            "Fold:5, Train set: 116538, Test set:12949\n",
            "Fold:6, Train set: 116538, Test set:12949\n",
            "Fold:7, Train set: 116538, Test set:12949\n",
            "Fold:8, Train set: 116539, Test set:12948\n",
            "Fold:9, Train set: 116539, Test set:12948\n",
            "Fold:10, Train set: 116539, Test set:12948\n"
          ]
        },
        {
          "output_type": "execute_result",
          "data": {
            "text/plain": [
              "0         0\n",
              "1         0\n",
              "2         1\n",
              "3         0\n",
              "4         1\n",
              "         ..\n",
              "129482    0\n",
              "129483    1\n",
              "129484    0\n",
              "129485    1\n",
              "129486    0\n",
              "Name: satisfaction, Length: 129487, dtype: int64"
            ]
          },
          "metadata": {},
          "execution_count": 34
        }
      ]
    },
    {
      "cell_type": "code",
      "source": [
        "# Create the predicted value using MultinomialNB and StratifiedCV\n",
        "\n",
        "classifier = MultinomialNB()\n",
        "predicted = cross_val_predict(classifier, x, y, cv=stratified_cv)\n",
        "\n",
        "# print(f'Scores for each fold are: {predicted}')\n",
        "print('Average score: ',predicted.mean())"
      ],
      "metadata": {
        "colab": {
          "base_uri": "https://localhost:8080/"
        },
        "id": "iRuMS3iqj8Ns",
        "outputId": "3050d753-2e88-40ef-f047-c1917ab6cfdf"
      },
      "execution_count": null,
      "outputs": [
        {
          "output_type": "stream",
          "name": "stdout",
          "text": [
            "Average score:  0.39737579834269077\n"
          ]
        }
      ]
    },
    {
      "cell_type": "code",
      "source": [
        "# Print the confusion matrix\n",
        "class_labels = [0, 1]\n",
        "confusion = confusion_matrix(y, predicted)\n",
        "disp = ConfusionMatrixDisplay(confusion_matrix=confusion, display_labels=class_labels)\n",
        "disp.plot()"
      ],
      "metadata": {
        "colab": {
          "base_uri": "https://localhost:8080/",
          "height": 467
        },
        "id": "BR3nHchAkGjt",
        "outputId": "aaafaaf3-8119-4753-a1bc-c46a6cc56901"
      },
      "execution_count": null,
      "outputs": [
        {
          "output_type": "execute_result",
          "data": {
            "text/plain": [
              "<sklearn.metrics._plot.confusion_matrix.ConfusionMatrixDisplay at 0x7bd092799900>"
            ]
          },
          "metadata": {},
          "execution_count": 36
        },
        {
          "output_type": "display_data",
          "data": {
            "text/plain": [
              "<Figure size 640x480 with 2 Axes>"
            ],
            "image/png": "[encoded data removed]"
          },
          "metadata": {}
        }
      ]
    }
  ]
}